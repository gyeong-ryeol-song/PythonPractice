{
 "cells": [
  {
   "cell_type": "markdown",
   "metadata": {},
   "source": [
    "# 다이나믹 프로그래밍\n",
    "* 다이나믹 프로그래밍은 메모리를 적절히 사용하여 수행 시간 효율성을 비약적으로 향상시키는 방법입니다.\n",
    "* 이미 계산된 결과(작은 문제)는 별도의 메모리 영역에 저장하여 다시 계산하지 않도록 합니다.\n",
    "* 다이나믹 프로그래밍 구현은 일반적으로 두 가지 방식(Top-down or Bottom-up)으로 구성됩니다.\n",
    "* 동적 계획법이라고도 부릅니다.\n",
    "* 동적이란?\n",
    "    * 자료구조에서 동적 할당은 '프로그램이 실행되는 도중에 실행에 필요한 메모리를 할당하는 기법'\n",
    "    * 반면 다이나믹 프로그래밍에서 '다이나믹'은 별다른 의미 없이 사용된 단어입니다.\n",
    "\n",
    "* 다이나믹 프로그래밍은 다음의 조건을 만족할 때 사용할 수 있습니다.\n",
    "    1. 최적 부분 구조(Optimal Substructure)\n",
    "    * 큰 문제를 작은 문제로 나눌 수 있으며 작은 문제의 답을 모아서 큰 문제를 해결할 수 있습니다.\n",
    "    2. 중복되는 부분 문제(Overlapping Subproblem)\n",
    "    * 동일한 작은 문제를 반복적으로 해결해야 할 때"
   ]
  },
  {
   "cell_type": "markdown",
   "metadata": {},
   "source": [
    "# 피보나치 수열\n",
    "\n",
    "## 피보나치 수열: 단순 재귀 소스코드"
   ]
  },
  {
   "cell_type": "code",
   "execution_count": 1,
   "metadata": {},
   "outputs": [
    {
     "name": "stdout",
     "output_type": "stream",
     "text": [
      "3\n"
     ]
    }
   ],
   "source": [
    "def fib(x):\n",
    "    if x==1 or x==2:\n",
    "        return 1\n",
    "    return fib(x-1) + fib(x-2)\n",
    "\n",
    "print(fib(4))"
   ]
  },
  {
   "cell_type": "markdown",
   "metadata": {},
   "source": [
    "## 피보나치 수열의 시간 복잡도 분석\n",
    "* 단순 재귀 함수로 피보나치 수열을 해결하면 지수 시간 복잡도를 가지게 됩니다.\n",
    "* 시간 복잡도 : O(2^n)\n",
    "* f(30)을 계산하기 위해 약 10억가량의 연산을 수행해야 합니다. -> 비효율적\n",
    "* 예를 들어, 수열 속 f(2)에 대한 정보를 저장하지 않으면 f(2)를 몇번이고 반복적으로 연산합니다."
   ]
  },
  {
   "cell_type": "markdown",
   "metadata": {},
   "source": [
    "## 피보나치 수열의 효율적인 해법: 다이나믹 프로그래밍\n",
    "* 다이나믹 프로그래밍의 사용 조건을 만족하는지 확인합니다.\n",
    "    * 최적 부분 구조: 큰 문제를 작은 문제로 나눌 수 있습니다.\n",
    "    * 중복 되는 부분 문제: 동일한 작은 문제를 반복적으로 해결합니다.\n",
    "* -> 가능 : f(4) -> f(3) + (2) -> f(2) + f(1) +f(2)"
   ]
  },
  {
   "cell_type": "markdown",
   "metadata": {},
   "source": [
    "## 메모이제이션(Memoization)\n",
    "* 메모이제이션은 다이나믹 프로그래밍을 구현하는 방법 중 하나입니다.\n",
    "* 한 번 계산한 결과를 메모리 공간에 메모하는 기법입니다.\n",
    "    * 같은 문제를 다시 호출하면 메모했던 결과를 그대로 가져옵니다.\n",
    "    * 값을 기록해 놓는다는 점에서 캐싱(Cashing)이라고도 합니다."
   ]
  },
  {
   "cell_type": "markdown",
   "metadata": {},
   "source": [
    "## Top-down vs Bottom-up\n",
    "* 탑다운(메모이제이션) 방식은 하향식이라고도 하며 보텀업 방식은 상향식이라고도 합니다.\n",
    "* 다이나믹 프로그래밍의 전형적인 형태는 Bottom-up 방식입니다.\n",
    "    * 결과 저장용 리스트는 DP 테이블이라고 부릅니다.\n",
    "* 엄밀히 말하면 메모이제이션은 이전에 계산된 결과를 일시적으로 기록해 놓은 넓은 개념을 의미합니다.\n",
    "    * 따라서 메모이제이션은 다이나믹 프로그래밍에 국한된 개념은 아닙니다.\n",
    "    * 한 번 계산된 결과를 담아 놓기만 하고 다이나믹 프로그래밍을 위해 활용하지 않을 수도 있습니다."
   ]
  },
  {
   "cell_type": "markdown",
   "metadata": {},
   "source": [
    "## 피보나치 수열: 다이나믹 프로그래밍 소스코드\n",
    "\n",
    "### Top-down 방식"
   ]
  },
  {
   "cell_type": "code",
   "execution_count": 2,
   "metadata": {},
   "outputs": [
    {
     "name": "stdout",
     "output_type": "stream",
     "text": [
      "218922995834555169026\n"
     ]
    }
   ],
   "source": [
    "# 한 번 계산된 결과를 메모이제이션하기 위한 리스트 초기화\n",
    "d = [0]*100\n",
    "\n",
    "# 피보나치 함수를 재귀적으로 구현(Top-down 다이나믹 프로그래밍)\n",
    "def fib(x):\n",
    "    if x==1 or x==2:\n",
    "        return 1\n",
    "    # 이미 계산한 적이 있는 문제라면 그대로 반환\n",
    "    if d[x]!=0:\n",
    "        return d[x]\n",
    "    # 아직 계산하지 않은 문제라면 점화식에 따라서 피보나치 결과 반환\n",
    "    d[x] = fib(x-1) + fib(x-2)\n",
    "    return d[x]\n",
    "\n",
    "print(fib(99))"
   ]
  },
  {
   "cell_type": "markdown",
   "metadata": {},
   "source": [
    "### Bottm-up 방식"
   ]
  },
  {
   "cell_type": "code",
   "execution_count": 3,
   "metadata": {},
   "outputs": [
    {
     "name": "stdout",
     "output_type": "stream",
     "text": [
      "218922995834555169026\n"
     ]
    }
   ],
   "source": [
    "d = [0]*100\n",
    "\n",
    "# 첫 번째 피보나치 수와 두 번째 피보나치 수는 1\n",
    "d[1] = 1\n",
    "d[2] = 1\n",
    "n = 99\n",
    "\n",
    "# 피보나치를 반복문으로 구현(Bottom-up 다이나믹 프로그래밍)\n",
    "for i in range(3,n+1):\n",
    "    d[i] = d[i-1] + d[i-2]\n",
    "\n",
    "print(d[n])"
   ]
  },
  {
   "cell_type": "markdown",
   "metadata": {},
   "source": [
    "## 피보나치 수열: 메모이제이션 동작 분석\n",
    "* 메모이제이션을 이용하는 경우 피보나치 수열 함수의 시간 복잡도는 O(N)입니다."
   ]
  },
  {
   "cell_type": "code",
   "execution_count": 5,
   "metadata": {},
   "outputs": [
    {
     "name": "stdout",
     "output_type": "stream",
     "text": [
      "f(6) f(5) f(4) f(3) f(2) f(1) f(2) f(3) f(4) "
     ]
    },
    {
     "data": {
      "text/plain": [
       "8"
      ]
     },
     "execution_count": 5,
     "metadata": {},
     "output_type": "execute_result"
    }
   ],
   "source": [
    "d = [0]*100\n",
    "\n",
    "def fib(x):\n",
    "    print('f('+str(x)+')',end = ' ')\n",
    "    if x==1 or x==2:\n",
    "        return 1\n",
    "    if d[x]!=0:\n",
    "        return d[x]\n",
    "    d[x] = fib(x-1) + fib(x-2)\n",
    "    return d[x]\n",
    "\n",
    "fib(6)"
   ]
  },
  {
   "cell_type": "markdown",
   "metadata": {},
   "source": [
    "# 다이나믹 프로그래밍 vs 분할 정복\n",
    "* 다이나믹 프로그래밍과 분할 정복은 모두 최적 부분 구조를 가질 때 사용할 수 있습니다.\n",
    "    * 큰 문제를 작은 문제로 나눌 수 있으며 작은 문제의 답을 모아서 큰 문제를 해결할 수 있는 상황\n",
    "* 다이나믹 프로그래밍과 분할 정복의 차이점은 부분 문제의 중복입니다.\n",
    "    * 다이나믹 프로그래밍 문제에서는 각 부분 문제들이 서로 영향을 미치며 부분 문제가 중복됩니다.\n",
    "    * 분할 정복 문제에서는 동일한 부분 문제가 반복적으로 계산되지 않습니다.\n"
   ]
  },
  {
   "cell_type": "markdown",
   "metadata": {},
   "source": [
    "# 다이나믹 프로그래밍 문제에 접근하는 방법\n",
    "* 주어진 문제가 다이나믹 프로그래밍 유형임을 파악하는 것이 중요합니다.\n",
    "* 가장 먼저 그리디, 구현, 완전 탐색 등의 아이디어로 문제를 하결할 수 있는지 검토할 수 있습니다.\n",
    "    * 다른 알고리즘으로 풀이 방법이 떠오르지 않으면 다이나믹 프로그래밍을 고려해 봅시다.\n",
    "* 일단 재귀 함수로 비효율적인 완전 탐색 프로그램을 작성한 뒤에(탑다운) 작은 문제에서 구한 답이 큰 문제에서 그대로 사용될 수 있으면, 코드를 개선하는 방법을 사용할 수 있습니다.\n",
    "* 일반적인 코딩 테스트 수준에서는 기본 유형의 다이나믹 프로그래밍 문제가 출제되는 경우가 많습니다."
   ]
  },
  {
   "cell_type": "markdown",
   "metadata": {},
   "source": [
    "# 문제\n",
    "\n",
    "## 개미전사\n",
    "* 개미 전사는 부족한 식량을 충당하고자 메뚜기 마을의 식량창고를 몰래 공격하기로 합니다. 메뚜기 마을에는 여러 개의 식량창고가 있는데 식량창고는 일직선으로 이어져 있습니다.\n",
    "* 각 식량창고에는 정해진 수의 식량을 저장하고 있으며 개미 전사는 식량창고를 선택적으로 약탈하여 식량을 빼앗을 예정입니다. 이 때 메뚜기 정찰병들은 일직선상에 존재하는 식량창고 중에서 서로 인접한 식량창고가 공격받으면 바로 알아챌 수 있습니다.\n",
    "* 따라서 개미 전사가 정찰병에게 들키지 않고 식량창고를 약탈하기 위해서는 최소한 한 칸 이상 떨어진 식량창고를 약탈해야 합니다.\n",
    "\n",
    "### ex)\n",
    "* {1, 3, 1, 5}\n",
    "* 이 때 개미 전사는 두 번째 식량창고와 네 번째 식량창고를 선택했을 때 최댓값은 총 8개의 식량을 빼앗을 수 있습니다. 개미 전사는 식량창고가 이렇게 일직선상일 때 최대한 많은 식량을 얻기를 원합니다.\n",
    "* 개미 전사를 위해 식량창고 N개에 대한 정보가 주어졌을 때 얻을 수 있는 식량의 최댓값을 구하는 프로그램을 작성하세요\n",
    "\n",
    "#### 입력조건 \n",
    "* 첫째 줄에 식량창고의 개수N이 주어집니다(3<=N<=100)\n",
    "* 둘째 줄에 공백을 기준으로 각 식량창고에 저장된 식량의 개수 K가 주어집니다.(0<=K<=1000)\n",
    "\n",
    "\n",
    "#### 출력조건\n",
    "* 첫째 줄에 개미 전사가 얻을 수 있는 식량의 최댓값을 출력하세요\n"
   ]
  },
  {
   "cell_type": "markdown",
   "metadata": {},
   "source": [
    "#### wrong answer\n",
    "* 단순하게 최댓값이라 하면 홀수번째 창고를 다 터는 것과 짝수번째 창고를 다 터는 것 중 최대를 구하면 된다고 생각했음"
   ]
  },
  {
   "cell_type": "code",
   "execution_count": 15,
   "metadata": {},
   "outputs": [
    {
     "name": "stdout",
     "output_type": "stream",
     "text": [
      "4\n",
      " 1 3 1 5\n",
      "8\n"
     ]
    }
   ],
   "source": [
    "n = int(input())\n",
    "warehouse = list(map(int,input().split()))\n",
    "\n",
    "sum_odd = 0\n",
    "sum_even = 0\n",
    "\n",
    "for index,k in enumerate(warehouse):\n",
    "    if index%2!=0:\n",
    "        sum_even +=k\n",
    "    else:\n",
    "        sum_odd+=k\n",
    "        \n",
    "if sum_odd>=sum_even:\n",
    "    max_n = sum_odd\n",
    "else:\n",
    "    max_n = sum_even\n",
    "\n",
    "print(max_n)"
   ]
  },
  {
   "cell_type": "markdown",
   "metadata": {},
   "source": [
    "#### lecture answer\n",
    "* 왼쪽부터 차례대로 식량창고를 턴다고 했을 때, 특정한 i번째 식량창고에 대해서 털지 안 털지의 여부를 결정하면, 2가지 경우 중에서 더 많은 식량을 털 수 있는 경우를 선택하면 됩니다.\n",
    "    * 현재 창고를 털고 i-2개의 창고를 고려\n",
    "    * 현재 창고를 털지 않고 i-1개의 창고를 고려"
   ]
  },
  {
   "cell_type": "markdown",
   "metadata": {},
   "source": [
    "$ a_i = i $번째 식량창고까지의 최적의 해(얻을 수 있는 식량의 최댓값)\n",
    "\n",
    "\n",
    "$ k_i = i $번째 식량창고에 있는 식량의 양\n",
    "\n",
    "\n",
    "* 점화식은 다음과 같습니다.\n",
    "\n",
    "    $ a_i = max(a_{i-1}, a_{i-2} +  k_i)$\n",
    "    \n",
    "* 한 칸 이상 떨어진 식량창고는 항상 털 수 있으므로 (i-3)번째 이하는 고려할 필요가 없습니다.\n",
    "\n",
    "\n",
    "#### bottom-up"
   ]
  },
  {
   "cell_type": "code",
   "execution_count": 17,
   "metadata": {},
   "outputs": [
    {
     "name": "stdout",
     "output_type": "stream",
     "text": [
      "6\n",
      "1 2 4 6 8 6\n",
      "14\n"
     ]
    }
   ],
   "source": [
    "n = int(input())\n",
    "warehouse = list(map(int,input().split()))\n",
    "\n",
    "d = [0]*100\n",
    "\n",
    "\n",
    "d[0] = warehouse[0]\n",
    "d[1] =max(warehouse[0],warehouse[1])\n",
    "\n",
    "for i in range(2,n):\n",
    "    d[i] = max(d[i-1],d[i-2]+warehouse[i])\n",
    "    \n",
    "print(d[n-1])"
   ]
  },
  {
   "cell_type": "markdown",
   "metadata": {},
   "source": [
    "## 1로 만들기\n",
    "* 정수 X가 주어졌을 때, 정수 X에 사용할 수 있는 연산은 다음과 같이 4가지 입니다.\n",
    "    1. X가 5로 나누어 떨어지면, 5로 나눕니다.\n",
    "    2. X가 3으로 나누어 떨어지면, 3으로 나눕니다.\n",
    "    3. X가 2로 나누어 떨어지면, 2로 나눕니다.\n",
    "    4. X에서 1을 뺍니다.\n",
    "\n",
    "\n",
    "\n",
    "* 정수 X가 주어졌을 때, 연산 4개를 적절히 사용해서 값을 1로 만들고자 합니다. 연산을 사용하는 횟수의 최솟값을 출력하세요. 예를 들어 정수가 26이면 다음과 같이 계산해서 3번의 연산이 최솟값입니다.\n",
    "    * 26 -> 25 -> 5-> 1\n",
    "    \n",
    "    \n",
    "#### 입력조건 \n",
    "* 첫째 줄에 정수 X가 주어집니다(1<=X<=30000)\n",
    "\n",
    "\n",
    "#### 출력조건\n",
    "* 첫째 줄에 연산횟수의 최솟값을 출력합니다.\n",
    "\n"
   ]
  },
  {
   "cell_type": "code",
   "execution_count": 1,
   "metadata": {},
   "outputs": [
    {
     "name": "stdout",
     "output_type": "stream",
     "text": [
      "300\n",
      "5\n"
     ]
    }
   ],
   "source": [
    "n = int(input())\n",
    "\n",
    "d = [0]*30001\n",
    "\n",
    "for i in range(2,n+1):\n",
    "    # 현재의 수에서 1을 빼는 경우\n",
    "    d[i] = d[i-1] +1\n",
    "    # 현재의 수가 2로 나누어 떨어지는 경우\n",
    "    if i%2==0:\n",
    "        d[i] = min(d[i],d[i//2]+1)\n",
    "    \n",
    "    # 현재의 수가 3으로 나누어 떨어지는 경우\n",
    "    if i%3==0:\n",
    "        d[i] = min(d[i],d[i//3]+1)\n",
    "        \n",
    "    if i%5==0:\n",
    "        d[i] = min(d[i],d[i//5]+1)\n",
    "\n",
    "print(d[n])\n",
    "    "
   ]
  },
  {
   "cell_type": "markdown",
   "metadata": {},
   "source": [
    "## 효율적인 화폐 구성\n",
    "* N가지 종류의 화폐가 있습니다. 이 화폐들의 개수를 최소한으로 이용해서 그 가치의 합이 M원이 되도록 하려고 합니다. 이 때 각 종류의 화폐는 몇 개라도 사용할 수 있습니다.\n",
    "* 예를 들어, 2원, 3원 단위의 화폐가 있을 때는 15원을 만들기 위해 3원을 5개 사용하는 것이 가장 최소한의 화폐 개수입니다.\n",
    "* M원을 만들기 위한 최소한의 화폐 개수를 출력하는 프로그램을 작성하세요.\n",
    "\n",
    "#### 입력조건\n",
    "* 첫째줄에 N,M이 주어진다 (1<=N<=100,1<=N<=10000)\n",
    "* 이후에 N개의 줄에는 각 화폐의 가치가 주어진다. 화폐의 가치는 10000보다 작거나 같은 자연수이다.\n",
    "\n",
    "#### 출력조건\n",
    "* 첫째 줄에 최소 화폐 개수를 출력한다.(불가능할 때는 -1을 출력한다.)\n",
    "\n"
   ]
  },
  {
   "cell_type": "code",
   "execution_count": 8,
   "metadata": {},
   "outputs": [
    {
     "name": "stdout",
     "output_type": "stream",
     "text": [
      "2 15\n",
      "2\n",
      "3\n",
      "5\n"
     ]
    }
   ],
   "source": [
    "N,M = map(int,input().split())\n",
    "# n개의 화폐 단위 정보를 입력받기\n",
    "array = []\n",
    "for i in range(N):\n",
    "    array.append(int(input()))\n",
    "# 한 번 계산된 결과를 저장하기 위한 DP테이블 초기화\n",
    "d = [10001]*(M+1)\n",
    "\n",
    "# 다이나믹 프로그래밍 진행(Bottom-up)\n",
    "d[0]=0\n",
    "for i in range(N):\n",
    "    for j in range(array[i],M+1):\n",
    "        if d[j-array[i]] != 10001: # (i-k)원을 만드는 방법이 존재하는 경우\n",
    "            d[j]=min(d[j],d[j-array[i]]+1)\n",
    "\n",
    "# 계산된 결과 출력\n",
    "if d[M]==10001:\n",
    "    print(-1)\n",
    "else:\n",
    "    print(d[M])"
   ]
  },
  {
   "cell_type": "markdown",
   "metadata": {},
   "source": [
    "## 백준 2839번\n",
    "\n",
    "* 상근이는 요즘 설탕공장에서 설탕을 배달하고 있다. 상근이는 지금 사탕가게에 설탕을 정확하게 N킬로그램을 배달해야 한다. 설탕공장에서 만드는 설탕은 봉지에 담겨져 있다. 봉지는 3킬로그램 봉지와 5킬로그램 봉지가 있다.\n",
    "\n",
    "* 상근이는 귀찮기 때문에, 최대한 적은 봉지를 들고 가려고 한다. 예를 들어, 18킬로그램 설탕을 배달해야 할 때, 3킬로그램 봉지 6개를 가져가도 되지만, 5킬로그램 3개와 3킬로그램 1개를 배달하면, 더 적은 개수의 봉지를 배달할 수 있다.\n",
    "\n",
    "* 상근이가 설탕을 정확하게 N킬로그램 배달해야 할 때, 봉지 몇 개를 가져가면 되는지 그 수를 구하는 프로그램을 작성하시오.\n",
    "\n",
    "\n",
    "#### 입력조건\n",
    "* 첫째 줄에 N이 주어진다. (3 ≤ N ≤ 5000)\n",
    "\n",
    "#### 출력\n",
    "* 상근이가 배달하는 봉지의 최소 개수를 출력한다. 만약, 정확하게 N킬로그램을 만들 수 없다면 -1을 출력한다."
   ]
  },
  {
   "cell_type": "markdown",
   "metadata": {},
   "source": [
    "#### my answer"
   ]
  },
  {
   "cell_type": "code",
   "execution_count": 9,
   "metadata": {},
   "outputs": [
    {
     "name": "stdout",
     "output_type": "stream",
     "text": [
      "9\n",
      "3\n"
     ]
    }
   ],
   "source": [
    "n = int(input())\n",
    "array = [3,5]\n",
    "d=[5001]*(n+1)\n",
    "d[0] = 0\n",
    "\n",
    "for i in array:\n",
    "    for j in range(i,n+1):\n",
    "        if d[j-i]!=5001:\n",
    "            d[j]=min(d[j],d[j-i]+1)\n",
    "        \n",
    "if d[n]==5001:\n",
    "    print(-1)\n",
    "else:\n",
    "    print(d[n])\n",
    "    "
   ]
  },
  {
   "cell_type": "code",
   "execution_count": null,
   "metadata": {},
   "outputs": [],
   "source": []
  }
 ],
 "metadata": {
  "kernelspec": {
   "display_name": "Python 3",
   "language": "python",
   "name": "python3"
  },
  "language_info": {
   "codemirror_mode": {
    "name": "ipython",
    "version": 3
   },
   "file_extension": ".py",
   "mimetype": "text/x-python",
   "name": "python",
   "nbconvert_exporter": "python",
   "pygments_lexer": "ipython3",
   "version": "3.7.6"
  }
 },
 "nbformat": 4,
 "nbformat_minor": 4
}
