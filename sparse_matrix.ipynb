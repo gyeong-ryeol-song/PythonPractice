{
 "cells": [
  {
   "cell_type": "code",
   "execution_count": 3,
   "metadata": {},
   "outputs": [
    {
     "data": {
      "text/plain": [
       "[[0, 0, 0, 9],\n",
       " [0, 1, 0, 0],\n",
       " [0, 0, 0, 0],\n",
       " [0, 0, 7, 0],\n",
       " [0, 0, 0, 0],\n",
       " [3, 0, 0, 0],\n",
       " [0, 0, 0, 0]]"
      ]
     },
     "execution_count": 3,
     "metadata": {},
     "output_type": "execute_result"
    }
   ],
   "source": [
    "A = [[0,0,0,9],[0,1,0,0],[0,0,0,0],[0,0,7,0],[0,0,0,0],[3,0,0,0],[0,0,0,0]]\n",
    "A"
   ]
  },
  {
   "cell_type": "code",
   "execution_count": 39,
   "metadata": {
    "hide_input": false
   },
   "outputs": [],
   "source": [
    "def sparse_matrix(A,M,row,col,value):\n",
    "    M.append([row,col,value])\n",
    "    \n",
    "    for i in range(row):\n",
    "        for j in range(col):\n",
    "            if A[i][j] != 0:\n",
    "                M.append([i,j,A[i][j]])\n",
    "    \n",
    "def matrix_transpose(sparse_m,trans_m):\n",
    "    row = sparse_m[0][0]\n",
    "    col = sparse_m[0][1]\n",
    "    value = sparse_m[0][2]\n",
    "    \n",
    "    trans_m.append([row,col,value])\n",
    "    \n",
    "    if value > 0:\n",
    "        for i in range(col):\n",
    "            for j in range(1,value+1):\n",
    "                if sparse_m[j][1] == i:\n",
    "                    trans_m.append([sparse_m[j][1],sparse_m[j][0],sparse_m[j][2]])\n",
    "                    \n",
    "                "
   ]
  },
  {
   "cell_type": "code",
   "execution_count": 49,
   "metadata": {},
   "outputs": [
    {
     "name": "stdout",
     "output_type": "stream",
     "text": [
      "[[7, 4, 4], [0, 3, 9], [1, 1, 1], [3, 2, 7], [5, 0, 3]]\n",
      "행렬 A의 희소행렬은 다음과 같다.\n",
      "[7, 4, 4]\n",
      "[0, 3, 9]\n",
      "[1, 1, 1]\n",
      "[3, 2, 7]\n",
      "[5, 0, 3]\n",
      "\n",
      "[[7, 4, 4], [0, 5, 3], [1, 1, 1], [2, 3, 7], [3, 0, 9]]\n",
      "희소행렬의 전치행렬은 다음과 같다.\n",
      "[7, 4, 4]\n",
      "[0, 5, 3]\n",
      "[1, 1, 1]\n",
      "[2, 3, 7]\n",
      "[3, 0, 9]\n"
     ]
    }
   ],
   "source": [
    "row = len(A)\n",
    "col =len(A[0])\n",
    "value = 0\n",
    "\n",
    "for i in range(row):\n",
    "    for j in range(col):\n",
    "        if A[i][j]!=0:\n",
    "            value+=1\n",
    "            \n",
    "sparse_m = []\n",
    "trans_m = []\n",
    "sparse_matrix(A,sparse_m,row,col,value)\n",
    "matrix_transpose(sparse_m,trans_m)\n",
    "\n",
    "\n",
    "print(sparse_m)\n",
    "print(\"행렬 A의 희소행렬은 다음과 같다.\")\n",
    "for i in range(value+1):\n",
    "    print(sparse_m[i])\n",
    "\n",
    "print()   \n",
    "print(trans_m)\n",
    "print(\"희소행렬의 전치행렬은 다음과 같다.\")    \n",
    "for i in range(value+1):\n",
    "    print(trans_m[i])"
   ]
  },
  {
   "cell_type": "code",
   "execution_count": null,
   "metadata": {},
   "outputs": [],
   "source": []
  }
 ],
 "metadata": {
  "kernelspec": {
   "display_name": "Python 3",
   "language": "python",
   "name": "python3"
  },
  "language_info": {
   "codemirror_mode": {
    "name": "ipython",
    "version": 3
   },
   "file_extension": ".py",
   "mimetype": "text/x-python",
   "name": "python",
   "nbconvert_exporter": "python",
   "pygments_lexer": "ipython3",
   "version": "3.7.6"
  }
 },
 "nbformat": 4,
 "nbformat_minor": 4
}
